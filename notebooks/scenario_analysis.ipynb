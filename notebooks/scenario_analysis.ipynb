{
 "cells": [
  {
   "cell_type": "markdown",
   "metadata": {},
   "source": [
    "# Hypothetical Scenario Analysis\n",
    "\n",
    "This notebook explores \"what-if\" scenarios to understand network robustness and optimization potential.\n",
    "\n",
    "We will test:\n",
    "1. Impact of removing a key hub station (stress test)\n",
    "2. Impact of adding a new intermediate station (optimization test)"
   ]
  },
  {
   "cell_type": "code",
   "execution_count": 1,
   "metadata": {},
   "outputs": [],
   "source": [
    "import sys\n",
    "sys.path.append('..')\n",
    "\n",
    "import networkx as nx\n",
    "import matplotlib.pyplot as plt\n",
    "import pandas as pd\n",
    "\n",
    "from src.subway_model import SubwayGraph\n",
    "from utils.analysis_tools import (\n",
    "    calculate_network_stats,\n",
    "    calculate_average_shortest_path,\n",
    "    find_top_central_nodes\n",
    ")\n",
    "\n",
    "# Load subway data\n",
    "subway = SubwayGraph('../data/beijing_subway_data.csv')"
   ]
  },
  {
   "cell_type": "markdown",
   "metadata": {},
   "source": [
    "## Baseline Network (2023)\n",
    "\n",
    "First, let's establish our baseline - the current network state."
   ]
  },
  {
   "cell_type": "code",
   "execution_count": 2,
   "metadata": {},
   "outputs": [
    {
     "name": "stdout",
     "output_type": "stream",
     "text": [
      "Baseline Network (2023)\n",
      "  Stations: 367\n",
      "  Connections: 412\n",
      "\n",
      "Baseline Metrics:\n",
      "  Average degree: 2.25\n",
      "  Network density: 0.0061\n",
      "  Average shortest path: 15.64 stations\n",
      "  Diameter: 57 stations\n",
      "  Connectivity ratio: 100.00%\n"
     ]
    }
   ],
   "source": [
    "# Build the 2023 baseline network\n",
    "graph_base = subway.build_graph_for_date('2023')\n",
    "\n",
    "print(f\"Baseline Network (2023)\")\n",
    "print(f\"  Stations: {graph_base.number_of_nodes()}\")\n",
    "print(f\"  Connections: {graph_base.number_of_edges()}\")\n",
    "\n",
    "# Calculate baseline metrics\n",
    "stats_base = calculate_network_stats(graph_base)\n",
    "path_base = calculate_average_shortest_path(graph_base)\n",
    "\n",
    "print(f\"\\nBaseline Metrics:\")\n",
    "print(f\"  Average degree: {stats_base['average_degree']:.2f}\")\n",
    "print(f\"  Network density: {stats_base['density']:.4f}\")\n",
    "print(f\"  Average shortest path: {path_base['average_shortest_path']:.2f} stations\")\n",
    "print(f\"  Diameter: {path_base['diameter']} stations\")\n",
    "print(f\"  Connectivity ratio: {path_base['connectivity_ratio']:.2%}\")"
   ]
  },
  {
   "cell_type": "markdown",
   "metadata": {},
   "source": [
    "## Scenario 1: Removing a Key Hub Station\n",
    "\n",
    "What happens if a critical station is closed? Let's test the network's resilience."
   ]
  },
  {
   "cell_type": "code",
   "execution_count": 3,
   "metadata": {},
   "outputs": [
    {
     "name": "stdout",
     "output_type": "stream",
     "text": [
      "Top 10 stations by betweenness centrality:\n",
      "  1. Ping'anli: 0.2154\n",
      "  2. Cishousi: 0.2141\n",
      "  3. Caoqiao: 0.1903\n",
      "  4. Huoying: 0.1872\n",
      "  5. Lishuiqiao: 0.1871\n",
      "  6. Huoqiying: 0.1727\n",
      "  7. Xiju: 0.1726\n",
      "  8. Songjiazhuang: 0.1616\n",
      "  9. Wangjing West: 0.1614\n",
      "  10. Chedaogou: 0.1525\n",
      "\n",
      "We will test removing: Ping'anli\n"
     ]
    }
   ],
   "source": [
    "# First, identify which stations are most critical\n",
    "# Using betweenness centrality to find key hubs\n",
    "central_nodes = find_top_central_nodes(graph_base, n=10, centrality_type='betweenness')\n",
    "\n",
    "print(\"Top 10 stations by betweenness centrality:\")\n",
    "for i, (station, score) in enumerate(central_nodes['betweenness'][:10], 1):\n",
    "    print(f\"  {i}. {station}: {score:.4f}\")\n",
    "\n",
    "# Let's test removing the top hub\n",
    "station_to_remove = central_nodes['betweenness'][0][0]\n",
    "print(f\"\\nWe will test removing: {station_to_remove}\")"
   ]
  },
  {
   "cell_type": "code",
   "execution_count": 4,
   "metadata": {},
   "outputs": [
    {
     "name": "stdout",
     "output_type": "stream",
     "text": [
      "Successfully removed station: Ping'anli\n",
      "  This station connected to 6 other stations\n",
      "\n",
      "Network after removal:\n",
      "  Stations: 366\n",
      "  Connections: 406\n",
      "\n",
      "Metrics after removal:\n",
      "  Average degree: 2.22\n",
      "  Network density: 0.0061\n",
      "  Average shortest path: 16.26 stations\n",
      "  Diameter: 57 stations\n",
      "  Connectivity ratio: 100.00%\n"
     ]
    }
   ],
   "source": [
    "# Create a copy and remove the station\n",
    "graph_removed = graph_base.copy()\n",
    "\n",
    "if station_to_remove in graph_removed:\n",
    "    # Get neighbors before removing\n",
    "    neighbors = list(graph_removed.neighbors(station_to_remove))\n",
    "    \n",
    "    # Remove the station\n",
    "    graph_removed.remove_node(station_to_remove)\n",
    "    \n",
    "    print(f\"Successfully removed station: {station_to_remove}\")\n",
    "    print(f\"  This station connected to {len(neighbors)} other stations\")\n",
    "    print(f\"\\nNetwork after removal:\")\n",
    "    print(f\"  Stations: {graph_removed.number_of_nodes()}\")\n",
    "    print(f\"  Connections: {graph_removed.number_of_edges()}\")\n",
    "\n",
    "# Recalculate metrics\n",
    "stats_removed = calculate_network_stats(graph_removed)\n",
    "path_removed = calculate_average_shortest_path(graph_removed)\n",
    "\n",
    "print(f\"\\nMetrics after removal:\")\n",
    "print(f\"  Average degree: {stats_removed['average_degree']:.2f}\")\n",
    "print(f\"  Network density: {stats_removed['density']:.4f}\")\n",
    "print(f\"  Average shortest path: {path_removed['average_shortest_path']:.2f} stations\")\n",
    "print(f\"  Diameter: {path_removed['diameter']} stations\")\n",
    "print(f\"  Connectivity ratio: {path_removed['connectivity_ratio']:.2%}\")"
   ]
  },
  {
   "cell_type": "code",
   "execution_count": 5,
   "metadata": {},
   "outputs": [
    {
     "name": "stdout",
     "output_type": "stream",
     "text": [
      "\n",
      "============================================================\n",
      "IMPACT ANALYSIS - Scenario 1: Removing Key Hub\n",
      "============================================================\n",
      "\n",
      "Station removed: Ping'anli\n",
      "\n",
      "Changes in network metrics:\n",
      "  Average degree: 2.25 -> 2.22 (-0.03)\n",
      "  Network density: 0.0061 -> 0.0061 (-0.0001)\n",
      "  Avg shortest path: 15.64 -> 16.26 (+0.62 stations)\n",
      "  Diameter: 57 -> 57 (+0 stations)\n",
      "  Connectivity: 100.00% -> 100.00% (+0.00%)\n",
      "\n",
      "Interpretation:\n",
      "  The removal of Ping'anli significantly impacts network efficiency.\n",
      "  Average travel distance increased by 0.62 stations.\n"
     ]
    }
   ],
   "source": [
    "# Compare the impact\n",
    "print(\"\\n\" + \"=\"*60)\n",
    "print(\"IMPACT ANALYSIS - Scenario 1: Removing Key Hub\")\n",
    "print(\"=\"*60)\n",
    "\n",
    "print(f\"\\nStation removed: {station_to_remove}\")\n",
    "print(f\"\\nChanges in network metrics:\")\n",
    "\n",
    "# Calculate changes\n",
    "avg_degree_change = stats_removed['average_degree'] - stats_base['average_degree']\n",
    "density_change = stats_removed['density'] - stats_base['density']\n",
    "path_change = path_removed['average_shortest_path'] - path_base['average_shortest_path']\n",
    "diameter_change = path_removed['diameter'] - path_base['diameter']\n",
    "connectivity_change = path_removed['connectivity_ratio'] - path_base['connectivity_ratio']\n",
    "\n",
    "print(f\"  Average degree: {stats_base['average_degree']:.2f} -> {stats_removed['average_degree']:.2f} ({avg_degree_change:+.2f})\")\n",
    "print(f\"  Network density: {stats_base['density']:.4f} -> {stats_removed['density']:.4f} ({density_change:+.4f})\")\n",
    "print(f\"  Avg shortest path: {path_base['average_shortest_path']:.2f} -> {path_removed['average_shortest_path']:.2f} ({path_change:+.2f} stations)\")\n",
    "print(f\"  Diameter: {path_base['diameter']} -> {path_removed['diameter']} ({diameter_change:+d} stations)\")\n",
    "print(f\"  Connectivity: {path_base['connectivity_ratio']:.2%} -> {path_removed['connectivity_ratio']:.2%} ({connectivity_change:+.2%})\")\n",
    "\n",
    "# Interpretation\n",
    "print(f\"\\nInterpretation:\")\n",
    "if path_change > 0.5:\n",
    "    print(f\"  The removal of {station_to_remove} significantly impacts network efficiency.\")\n",
    "    print(f\"  Average travel distance increased by {path_change:.2f} stations.\")\n",
    "elif path_change > 0.1:\n",
    "    print(f\"  The removal of {station_to_remove} has a moderate impact on network efficiency.\")\n",
    "else:\n",
    "    print(f\"  The network shows good resilience to the removal of this station.\")\n",
    "\n",
    "if connectivity_change < 0:\n",
    "    print(f\"  Warning: Network connectivity decreased, some areas may be isolated.\")"
   ]
  },
  {
   "cell_type": "markdown",
   "metadata": {},
   "source": [
    "## Scenario 2: Adding a New Intermediate Station\n",
    "\n",
    "Can adding a station between existing ones improve network efficiency?"
   ]
  },
  {
   "cell_type": "code",
   "execution_count": 6,
   "metadata": {},
   "outputs": [
    {
     "name": "stdout",
     "output_type": "stream",
     "text": [
      "Top 5 edges by betweenness (potential locations for new station):\n",
      "  1. Lishuiqiao <-> Huoying: 0.1637\n",
      "  2. Cishousi <-> Chedaogou: 0.1550\n",
      "  3. Chedaogou <-> Huoqiying: 0.1538\n",
      "  4. Xiju <-> Qilizhuang: 0.1505\n",
      "  5. Huilongguan Dongdajie <-> Huoying: 0.1397\n",
      "\n",
      "We will add a new station: Lishuiqiao-Huoying_New\n",
      "  Between: Lishuiqiao and Huoying\n"
     ]
    }
   ],
   "source": [
    "# Create another copy for this scenario\n",
    "graph_added = graph_base.copy()\n",
    "\n",
    "# Let's find two connected stations with high betweenness\n",
    "# We'll add a station between them\n",
    "# For demonstration, let's try to find a good candidate pair\n",
    "\n",
    "# Get edges and their betweenness\n",
    "edge_betweenness = nx.edge_betweenness_centrality(graph_base)\n",
    "top_edges = sorted(edge_betweenness.items(), key=lambda x: x[1], reverse=True)[:5]\n",
    "\n",
    "print(\"Top 5 edges by betweenness (potential locations for new station):\")\n",
    "for i, (edge, score) in enumerate(top_edges, 1):\n",
    "    print(f\"  {i}. {edge[0]} <-> {edge[1]}: {score:.4f}\")\n",
    "\n",
    "# Select the top edge to add a station\n",
    "selected_edge = top_edges[0][0]\n",
    "station_a, station_b = selected_edge\n",
    "new_station = f\"{station_a}-{station_b}_New\"\n",
    "\n",
    "print(f\"\\nWe will add a new station: {new_station}\")\n",
    "print(f\"  Between: {station_a} and {station_b}\")"
   ]
  },
  {
   "cell_type": "code",
   "execution_count": 7,
   "metadata": {},
   "outputs": [
    {
     "name": "stdout",
     "output_type": "stream",
     "text": [
      "Removed original connection: Lishuiqiao <-> Huoying\n",
      "Added new station: Lishuiqiao-Huoying_New\n",
      "  Connection 1: Lishuiqiao <-> Lishuiqiao-Huoying_New\n",
      "  Connection 2: Lishuiqiao-Huoying_New <-> Huoying\n",
      "\n",
      "Network after addition:\n",
      "  Stations: 368\n",
      "  Connections: 413\n",
      "\n",
      "Metrics after addition:\n",
      "  Average degree: 2.24\n",
      "  Network density: 0.0061\n",
      "  Average shortest path: 15.78 stations\n",
      "  Diameter: 57 stations\n"
     ]
    }
   ],
   "source": [
    "# Add the new station\n",
    "# Step 1: Add the new node\n",
    "graph_added.add_node(new_station)\n",
    "\n",
    "# Step 2: Remove the original edge\n",
    "if graph_added.has_edge(station_a, station_b):\n",
    "    graph_added.remove_edge(station_a, station_b)\n",
    "    print(f\"Removed original connection: {station_a} <-> {station_b}\")\n",
    "\n",
    "# Step 3: Add new edges\n",
    "graph_added.add_edge(station_a, new_station)\n",
    "graph_added.add_edge(new_station, station_b)\n",
    "\n",
    "print(f\"Added new station: {new_station}\")\n",
    "print(f\"  Connection 1: {station_a} <-> {new_station}\")\n",
    "print(f\"  Connection 2: {new_station} <-> {station_b}\")\n",
    "\n",
    "print(f\"\\nNetwork after addition:\")\n",
    "print(f\"  Stations: {graph_added.number_of_nodes()}\")\n",
    "print(f\"  Connections: {graph_added.number_of_edges()}\")\n",
    "\n",
    "# Calculate new metrics\n",
    "stats_added = calculate_network_stats(graph_added)\n",
    "path_added = calculate_average_shortest_path(graph_added)\n",
    "\n",
    "print(f\"\\nMetrics after addition:\")\n",
    "print(f\"  Average degree: {stats_added['average_degree']:.2f}\")\n",
    "print(f\"  Network density: {stats_added['density']:.4f}\")\n",
    "print(f\"  Average shortest path: {path_added['average_shortest_path']:.2f} stations\")\n",
    "print(f\"  Diameter: {path_added['diameter']} stations\")"
   ]
  },
  {
   "cell_type": "code",
   "execution_count": 8,
   "metadata": {},
   "outputs": [
    {
     "name": "stdout",
     "output_type": "stream",
     "text": [
      "\n",
      "============================================================\n",
      "IMPACT ANALYSIS - Scenario 2: Adding New Station\n",
      "============================================================\n",
      "\n",
      "New station added: Lishuiqiao-Huoying_New\n",
      "  Location: Between Lishuiqiao and Huoying\n",
      "\n",
      "Changes in network metrics:\n",
      "  Average degree: 2.25 -> 2.24 (-0.00)\n",
      "  Network density: 0.0061 -> 0.0061 (-0.000019)\n",
      "  Avg shortest path: 15.64 -> 15.78 (+0.1350 stations)\n",
      "  Diameter: 57 -> 57 (+0 stations)\n",
      "\n",
      "Interpretation:\n",
      "  The new station slightly increases average path length.\n",
      "  This is expected as it adds one more hop on this particular route.\n"
     ]
    }
   ],
   "source": [
    "# Compare the impact\n",
    "print(\"\\n\" + \"=\"*60)\n",
    "print(\"IMPACT ANALYSIS - Scenario 2: Adding New Station\")\n",
    "print(\"=\"*60)\n",
    "\n",
    "print(f\"\\nNew station added: {new_station}\")\n",
    "print(f\"  Location: Between {station_a} and {station_b}\")\n",
    "print(f\"\\nChanges in network metrics:\")\n",
    "\n",
    "# Calculate changes\n",
    "avg_degree_change2 = stats_added['average_degree'] - stats_base['average_degree']\n",
    "density_change2 = stats_added['density'] - stats_base['density']\n",
    "path_change2 = path_added['average_shortest_path'] - path_base['average_shortest_path']\n",
    "diameter_change2 = path_added['diameter'] - path_base['diameter']\n",
    "\n",
    "print(f\"  Average degree: {stats_base['average_degree']:.2f} -> {stats_added['average_degree']:.2f} ({avg_degree_change2:+.2f})\")\n",
    "print(f\"  Network density: {stats_base['density']:.4f} -> {stats_added['density']:.4f} ({density_change2:+.6f})\")\n",
    "print(f\"  Avg shortest path: {path_base['average_shortest_path']:.2f} -> {path_added['average_shortest_path']:.2f} ({path_change2:+.4f} stations)\")\n",
    "print(f\"  Diameter: {path_base['diameter']} -> {path_added['diameter']} ({diameter_change2:+d} stations)\")\n",
    "\n",
    "# Interpretation\n",
    "print(f\"\\nInterpretation:\")\n",
    "if abs(path_change2) < 0.05:\n",
    "    print(f\"  Adding an intermediate station has minimal impact on global network efficiency.\")\n",
    "    print(f\"  The change in average path length is only {path_change2:.4f} stations.\")\n",
    "    print(f\"  This suggests that network-wide optimization requires more strategic changes,\")\n",
    "    print(f\"  such as adding new transfer lines rather than intermediate stops.\")\n",
    "elif path_change2 < 0:\n",
    "    print(f\"  The new station slightly improves network efficiency.\")\n",
    "    print(f\"  Local connectivity in this corridor has been enhanced.\")\n",
    "else:\n",
    "    print(f\"  The new station slightly increases average path length.\")\n",
    "    print(f\"  This is expected as it adds one more hop on this particular route.\")"
   ]
  },
  {
   "cell_type": "markdown",
   "metadata": {},
   "source": [
    "## Comparative Visualization"
   ]
  },
  {
   "cell_type": "code",
   "execution_count": 9,
   "metadata": {},
   "outputs": [
    {
     "name": "stdout",
     "output_type": "stream",
     "text": [
      "\n",
      "Figure saved to ../figures/scenario_analysis.png\n"
     ]
    },
    {
     "data": {
      "image/png": "[encoded data removed]",
      "text/plain": [
       "<Figure size 1400x500 with 2 Axes>"
      ]
     },
     "metadata": {},
     "output_type": "display_data"
    }
   ],
   "source": [
    "# Create comparison bar chart\n",
    "fig, axes = plt.subplots(1, 2, figsize=(14, 5))\n",
    "\n",
    "# Scenario 1 comparison\n",
    "metrics1 = ['Avg Degree', 'Density\\n(x100)', 'Avg Path', 'Diameter']\n",
    "base_values1 = [\n",
    "    stats_base['average_degree'],\n",
    "    stats_base['density'] * 100,\n",
    "    path_base['average_shortest_path'],\n",
    "    path_base['diameter']\n",
    "]\n",
    "removed_values1 = [\n",
    "    stats_removed['average_degree'],\n",
    "    stats_removed['density'] * 100,\n",
    "    path_removed['average_shortest_path'],\n",
    "    path_removed['diameter']\n",
    "]\n",
    "\n",
    "x = range(len(metrics1))\n",
    "width = 0.35\n",
    "\n",
    "axes[0].bar([i - width/2 for i in x], base_values1, width, label='Baseline', color='steelblue')\n",
    "axes[0].bar([i + width/2 for i in x], removed_values1, width, label='After Removal', color='coral')\n",
    "axes[0].set_ylabel('Value')\n",
    "axes[0].set_title(f'Impact of Removing {station_to_remove}')\n",
    "axes[0].set_xticks(x)\n",
    "axes[0].set_xticklabels(metrics1)\n",
    "axes[0].legend()\n",
    "axes[0].grid(axis='y', alpha=0.3)\n",
    "\n",
    "# Scenario 2 comparison\n",
    "base_values2 = [\n",
    "    stats_base['average_degree'],\n",
    "    stats_base['density'] * 100,\n",
    "    path_base['average_shortest_path'],\n",
    "    path_base['diameter']\n",
    "]\n",
    "added_values2 = [\n",
    "    stats_added['average_degree'],\n",
    "    stats_added['density'] * 100,\n",
    "    path_added['average_shortest_path'],\n",
    "    path_added['diameter']\n",
    "]\n",
    "\n",
    "axes[1].bar([i - width/2 for i in x], base_values2, width, label='Baseline', color='steelblue')\n",
    "axes[1].bar([i + width/2 for i in x], added_values2, width, label='After Addition', color='lightgreen')\n",
    "axes[1].set_ylabel('Value')\n",
    "axes[1].set_title('Impact of Adding New Station')\n",
    "axes[1].set_xticks(x)\n",
    "axes[1].set_xticklabels(metrics1)\n",
    "axes[1].legend()\n",
    "axes[1].grid(axis='y', alpha=0.3)\n",
    "\n",
    "plt.tight_layout()\n",
    "plt.savefig('../figures/scenario_analysis.png', dpi=300, bbox_inches='tight')\n",
    "print(\"\\nFigure saved to ../figures/scenario_analysis.png\")\n",
    "plt.show()"
   ]
  },
  {
   "cell_type": "markdown",
   "metadata": {},
   "source": []
  },
  {
   "cell_type": "markdown",
   "metadata": {},
   "source": [
    "## Summary and Conclusions"
   ]
  },
  {
   "cell_type": "code",
   "execution_count": 10,
   "metadata": {},
   "outputs": [
    {
     "name": "stdout",
     "output_type": "stream",
     "text": [
      "SCENARIO ANALYSIS SUMMARY\n",
      "============================================================\n",
      "\n",
      "1. KEY HUB REMOVAL (Stress Test):\n",
      "   Station: Ping'anli\n",
      "   Impact: Average path length changed by +0.62 stations\n",
      "   Conclusion: This station is critical\n",
      "              for maintaining network efficiency.\n",
      "\n",
      "2. NEW STATION ADDITION (Optimization Test):\n",
      "   New Station: Lishuiqiao-Huoying_New\n",
      "   Impact: Average path length changed by +0.1350 stations\n",
      "   Conclusion: Adding intermediate stations has noticeable\n",
      "              impact on global network efficiency.\n",
      "\n",
      "3. KEY INSIGHTS:\n",
      "   - Network robustness depends heavily on maintaining key hub stations\n",
      "   - Local optimizations (adding stations) have limited global impact\n",
      "   - Improving overall efficiency likely requires strategic line additions\n",
      "     rather than just adding more intermediate stations\n"
     ]
    }
   ],
   "source": [
    "print(\"SCENARIO ANALYSIS SUMMARY\")\n",
    "print(\"=\"*60)\n",
    "\n",
    "print(\"\\n1. KEY HUB REMOVAL (Stress Test):\")\n",
    "print(f\"   Station: {station_to_remove}\")\n",
    "print(f\"   Impact: Average path length changed by {path_change:+.2f} stations\")\n",
    "print(f\"   Conclusion: This station is {'critical' if abs(path_change) > 0.5 else 'important but not critical'}\")\n",
    "print(f\"              for maintaining network efficiency.\")\n",
    "\n",
    "print(\"\\n2. NEW STATION ADDITION (Optimization Test):\")\n",
    "print(f\"   New Station: {new_station}\")\n",
    "print(f\"   Impact: Average path length changed by {path_change2:+.4f} stations\")\n",
    "print(f\"   Conclusion: Adding intermediate stations has {'minimal' if abs(path_change2) < 0.05 else 'noticeable'}\")\n",
    "print(f\"              impact on global network efficiency.\")\n",
    "\n",
    "print(\"\\n3. KEY INSIGHTS:\")\n",
    "print(\"   - Network robustness depends heavily on maintaining key hub stations\")\n",
    "print(\"   - Local optimizations (adding stations) have limited global impact\")\n",
    "print(\"   - Improving overall efficiency likely requires strategic line additions\")\n",
    "print(\"     rather than just adding more intermediate stations\")"
   ]
  }
 ],
 "metadata": {
  "kernelspec": {
   "display_name": "Python 3",
   "language": "python",
   "name": "python3"
  },
  "language_info": {
   "codemirror_mode": {
    "name": "ipython",
    "version": 3
   },
   "file_extension": ".py",
   "mimetype": "text/x-python",
   "name": "python",
   "nbconvert_exporter": "python",
   "pygments_lexer": "ipython3",
   "version": "3.13.3"
  }
 },
 "nbformat": 4,
 "nbformat_minor": 4
}
